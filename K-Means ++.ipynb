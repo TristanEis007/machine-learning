{
 "cells": [
  {
   "cell_type": "markdown",
   "metadata": {
    "nbpresent": {
     "id": "cc50e498-e1cd-4425-952b-be5d69058dbb"
    }
   },
   "source": [
    "# K-Means ++"
   ]
  },
  {
   "cell_type": "markdown",
   "metadata": {
    "nbpresent": {
     "id": "b6b24f4a-c4c0-4bfc-b303-8924ba207cbf"
    }
   },
   "source": [
    "Consider the problem, where for a given dataset X the goal is to find points c1, ..., cK that minimize the following objective function: FX (c1, ..., cK ) = max min d(x, ci), x∈X ci, where d(·, ·) stands for the Euclidean distance (the centers do not have to be necessarily taken from X ). Consider the following simple greedy algorithm for the computation of c1 , ..., cK : Choose c1 arbitrarily. For i = 2, ..., K, given c1, ..., ci−1, choose as ci this point from X such that its distance to the closest point from the already chosen centers c1,...,ci−1 is maximal."
   ]
  },
  {
   "cell_type": "code",
   "execution_count": 3,
   "metadata": {
    "collapsed": true,
    "nbpresent": {
     "id": "90fa4380-48bd-4303-8b34-5016399da3cf"
    }
   },
   "outputs": [],
   "source": [
    "import random\n",
    "import numpy as np\n",
    "import matplotlib.pyplot as plt\n",
    "\n",
    "%matplotlib inline"
   ]
  },
  {
   "cell_type": "code",
   "execution_count": 4,
   "metadata": {
    "collapsed": false,
    "nbpresent": {
     "id": "4bbee107-cb3e-4cad-bfd8-086fdb946146"
    }
   },
   "outputs": [
    {
     "data": {
      "image/png": "[encoded data removed]",
      "text/plain": [
       "<matplotlib.figure.Figure at 0x10c6bd208>"
      ]
     },
     "metadata": {},
     "output_type": "display_data"
    }
   ],
   "source": [
    "# creating a dataset to work on. Assuming (for simplicity) \n",
    "# that this dataset is 2D, i.e. all points can be encoded as \n",
    "# (x,y) and let's suppose there are 100 points in the dataset\n",
    "# that all lay between x,y ∈ [-100;100]\n",
    "\n",
    "X = []\n",
    "for i in range(100):\n",
    "    x = (random.randint(-100,100), random.randint(-100,100))\n",
    "    X.append(x)\n",
    "\n",
    "for x in X:\n",
    "    plt.scatter(x[0],x[1])\n",
    "plt.show()"
   ]
  },
  {
   "cell_type": "markdown",
   "metadata": {
    "nbpresent": {
     "id": "f14272b8-513a-4190-99f6-77fee745dbf2"
    }
   },
   "source": [
    "### Start of the algorithm:"
   ]
  },
  {
   "cell_type": "code",
   "execution_count": 5,
   "metadata": {
    "collapsed": false,
    "nbpresent": {
     "id": "8628e359-9042-4df1-8cf6-ba4f5cce5833"
    }
   },
   "outputs": [],
   "source": [
    "def dist(a,b):\n",
    "    \n",
    "    '''Returns the Euclidean Distance between a and b'''\n",
    "    \n",
    "    dist = np.linalg.norm(np.array(a)-np.array(b))\n",
    "    return dist"
   ]
  },
  {
   "cell_type": "code",
   "execution_count": 6,
   "metadata": {
    "collapsed": false,
    "nbpresent": {
     "id": "4af8bf49-8470-4718-addd-2da9d88f5103"
    }
   },
   "outputs": [],
   "source": [
    "def K_prob(X ,numb_centers):\n",
    "    \n",
    "    '''Identifies the k centers that satisfy the minimization of the \n",
    "    cost function'''\n",
    "    \n",
    "    # initializing variables: number of centers and randomely \n",
    "    # selected first center\n",
    "    \n",
    "    k = numb_centers\n",
    "    \n",
    "    # let's select our first center at random from the dataset X\n",
    "    \n",
    "    s = [random.sample(X,1)]\n",
    "\n",
    "    dist_min = {}\n",
    "    \n",
    "    # as long as we don't have the correct amount of centers, we \n",
    "    # look for the point that has the maximum minimum distance to \n",
    "    # existing centers\n",
    "    \n",
    "    while len(s) < k:\n",
    "        for c in range(0,len(s)):\n",
    "            for i in range(0,len(X)):\n",
    "                if c == 0:\n",
    "                    dist_min[X[i]] = [dist(X[i],s[c])]\n",
    "                else:\n",
    "                    dist_min[X[i]].append(dist(X[i],s[c]))\n",
    "\n",
    "        # selecting the minimum distance from each point in the dataset \n",
    "        # to another point\n",
    "        for x in X:\n",
    "            dist_min[x] = min(dist_min[x]) \n",
    "\n",
    "        # selecting the max distance to choose next center\n",
    "        max_d = max(dist_min, key=lambda r: dist_min[r])\n",
    "        s.append(max_d)\n",
    "   \n",
    "    return s"
   ]
  },
  {
   "cell_type": "code",
   "execution_count": 7,
   "metadata": {
    "collapsed": false,
    "nbpresent": {
     "id": "a1633b16-fb7e-493f-bbe0-b00c37cbe079"
    }
   },
   "outputs": [],
   "source": [
    "def cost_func(X, centers):\n",
    "    \n",
    "    '''Calculates the cost function of the K-problem algorithm'''\n",
    "    \n",
    "    cost_func_min = {}\n",
    "    for ind, c in enumerate(centers):\n",
    "        for i in X:\n",
    "            if ind == 0:\n",
    "                cost_func_min[i] = [dist(i,c)]\n",
    "            else:\n",
    "                cost_func_min[i].append(dist(i,c))\n",
    "    \n",
    "    result = {}\n",
    "    for x in X:\n",
    "        result[x] = min(cost_func_min[x])\n",
    "    \n",
    "    max_cost = max(result.values())\n",
    "    sum_cost = 0\n",
    "    for x in result.values():\n",
    "        sum_cost += x \n",
    "\n",
    "    return [sum_cost, max_cost]"
   ]
  },
  {
   "cell_type": "code",
   "execution_count": 8,
   "metadata": {
    "collapsed": false,
    "nbpresent": {
     "id": "e1c6683e-1123-4fbd-bacc-3875d56c8132"
    }
   },
   "outputs": [],
   "source": [
    "# running the K-problem algorithm to select the 10 centers:\n",
    "solution = K_prob(X, 10)\n",
    "cost_function = cost_func(X, solution)"
   ]
  },
  {
   "cell_type": "code",
   "execution_count": 9,
   "metadata": {
    "collapsed": false,
    "nbpresent": {
     "id": "fb1a6944-399e-4fb6-a8dd-c8510a749560"
    }
   },
   "outputs": [
    {
     "name": "stdout",
     "output_type": "stream",
     "text": [
      "The centers are:\n",
      " [[(-27, 28)], (99, -74), (-93, -92), (86, 93), (7, -91), (-84, 97), (67, 13), (-92, -5), (-9, 93), (-23, -35)] \n",
      "\n",
      "The value of the max cost function is:\n",
      " 59.5399025864 \n",
      "\n",
      "The value of the sum of all cost functions within the dataset is:\n",
      " 2834.93143737\n"
     ]
    }
   ],
   "source": [
    "print('The centers are:\\n', solution,  '\\n\\nThe value of the max cost function is:\\n', cost_function[1], '\\n\\nThe value of the sum of all cost functions within the dataset is:\\n', cost_function[0])"
   ]
  },
  {
   "cell_type": "code",
   "execution_count": null,
   "metadata": {
    "collapsed": false,
    "nbpresent": {
     "id": "d96079e7-0def-47d4-8be9-dae7cd820a07"
    }
   },
   "outputs": [],
   "source": []
  }
 ],
 "metadata": {
  "anaconda-cloud": {},
  "kernelspec": {
   "display_name": "Python [Root]",
   "language": "python",
   "name": "Python [Root]"
  },
  "language_info": {
   "codemirror_mode": {
    "name": "ipython",
    "version": 3
   },
   "file_extension": ".py",
   "mimetype": "text/x-python",
   "name": "python",
   "nbconvert_exporter": "python",
   "pygments_lexer": "ipython3",
   "version": "3.5.2"
  },
  "nbpresent": {
   "slides": {},
   "themes": {
    "default": "a4935032-3480-42c0-984f-70c88c975f8e",
    "theme": {
     "a4935032-3480-42c0-984f-70c88c975f8e": {
      "backgrounds": {
       "dc7afa04-bf90-40b1-82a5-726e3cff5267": {
        "background-color": "31af15d2-7e15-44c5-ab5e-e04b16a89eff",
        "id": "dc7afa04-bf90-40b1-82a5-726e3cff5267"
       }
      },
      "id": "a4935032-3480-42c0-984f-70c88c975f8e",
      "palette": {
       "19cc588f-0593-49c9-9f4b-e4d7cc113b1c": {
        "id": "19cc588f-0593-49c9-9f4b-e4d7cc113b1c",
        "rgb": [
         252,
         252,
         252
        ]
       },
       "31af15d2-7e15-44c5-ab5e-e04b16a89eff": {
        "id": "31af15d2-7e15-44c5-ab5e-e04b16a89eff",
        "rgb": [
         68,
         68,
         68
        ]
       },
       "50f92c45-a630-455b-aec3-788680ec7410": {
        "id": "50f92c45-a630-455b-aec3-788680ec7410",
        "rgb": [
         197,
         226,
         245
        ]
       },
       "c5cc3653-2ee1-402a-aba2-7caae1da4f6c": {
        "id": "c5cc3653-2ee1-402a-aba2-7caae1da4f6c",
        "rgb": [
         43,
         126,
         184
        ]
       },
       "efa7f048-9acb-414c-8b04-a26811511a21": {
        "id": "efa7f048-9acb-414c-8b04-a26811511a21",
        "rgb": [
         25.118061674008803,
         73.60176211453744,
         107.4819383259912
        ]
       }
      },
      "rules": {
       "a": {
        "color": "19cc588f-0593-49c9-9f4b-e4d7cc113b1c"
       },
       "blockquote": {
        "color": "50f92c45-a630-455b-aec3-788680ec7410",
        "font-size": 3
       },
       "code": {
        "font-family": "Anonymous Pro"
       },
       "h1": {
        "color": "19cc588f-0593-49c9-9f4b-e4d7cc113b1c",
        "font-family": "Merriweather",
        "font-size": 8
       },
       "h2": {
        "color": "19cc588f-0593-49c9-9f4b-e4d7cc113b1c",
        "font-family": "Merriweather",
        "font-size": 6
       },
       "h3": {
        "color": "50f92c45-a630-455b-aec3-788680ec7410",
        "font-family": "Lato",
        "font-size": 5.5
       },
       "h4": {
        "color": "c5cc3653-2ee1-402a-aba2-7caae1da4f6c",
        "font-family": "Lato",
        "font-size": 5
       },
       "h5": {
        "font-family": "Lato"
       },
       "h6": {
        "font-family": "Lato"
       },
       "h7": {
        "font-family": "Lato"
       },
       "li": {
        "color": "50f92c45-a630-455b-aec3-788680ec7410",
        "font-size": 3.25
       },
       "pre": {
        "font-family": "Anonymous Pro",
        "font-size": 4
       }
      },
      "text-base": {
       "color": "19cc588f-0593-49c9-9f4b-e4d7cc113b1c",
       "font-family": "Lato",
       "font-size": 4
      }
     }
    }
   }
  }
 },
 "nbformat": 4,
 "nbformat_minor": 0
}

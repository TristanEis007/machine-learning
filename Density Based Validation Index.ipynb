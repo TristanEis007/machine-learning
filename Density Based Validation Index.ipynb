{
 "cells": [
  {
   "cell_type": "markdown",
   "metadata": {},
   "source": [
    "# DBVI Index\n",
    "\n",
    "Consider a dataset of the following form: D = {(0, 0), (6, 0), (3, 3), (10, 1), (15, 0), (12, 3)} and its clustering into two clusters: C1 = {(0, 0), (6, 0), (3, 3)} and C2 = {(10, 1), (15, 0), (12, 3)}. Let's compute the DBVI index of that clustering (consider the version of the index where borderline points of the clusters are distinguished from the inner points)."
   ]
  },
  {
   "cell_type": "code",
   "execution_count": 5,
   "metadata": {
    "collapsed": false
   },
   "outputs": [],
   "source": [
    "import numpy as np\n",
    "from scipy.sparse import csr_matrix\n",
    "from scipy.sparse.csgraph import minimum_spanning_tree\n",
    "\n",
    "# Creating the dataset and the two clusters\n",
    "\n",
    "c1 = [(0,0),(6,0),(3,3)]\n",
    "c2 = [(10,1),(15,0),(12,3)]\n",
    "data = [(0,0),(6,0),(3,3),(10,1),(15,0),(12,3)]\n",
    "dimension = 2"
   ]
  },
  {
   "cell_type": "markdown",
   "metadata": {},
   "source": [
    "In the definitions of our concepts we use the following notations. Let O = {o1, · · · , on} be a dataset containing n objects in the Rd feature space. Let Dist be an n×n matrix of pairwise distances d(op,oq), where op,oq ∈ O, for a given metric distance d(·,·). Let KNN (o, i) be the distance between object o and its ith nearest neighbor. Let C = ({Ci},N) 1 ≤ i ≤ l be a clustering solution containing l clusters and (a possibly empty) set of noise objects N, for which ni is the size of the ith cluster and nN is the cardinality of noise.\n",
    "\n",
    "Let's calculate the core distance:"
   ]
  },
  {
   "cell_type": "code",
   "execution_count": 6,
   "metadata": {
    "collapsed": false
   },
   "outputs": [],
   "source": [
    "def KNN(pts, cluster, neighboor):\n",
    "    \n",
    "    # calculates the distance between a point (pts) and its neighbors within its cluster\n",
    "    \n",
    "    result = []\n",
    "    for i in data:\n",
    "        if i != pts:\n",
    "            result.append(np.linalg.norm(np.array(pts)-np.array(i)))\n",
    "    #print(result[neighboor-1],pts)\n",
    "    result.sort()\n",
    "    return result[neighboor-1]\n"
   ]
  },
  {
   "cell_type": "code",
   "execution_count": 7,
   "metadata": {
    "collapsed": false
   },
   "outputs": [],
   "source": [
    "KNN_list = []\n",
    "for i in data:\n",
    "    for j in range(1,3):\n",
    "        if i in c1:\n",
    "            cluster = c1\n",
    "        else:\n",
    "            cluster = c2\n",
    "        KNN_list.append(KNN(i,cluster,j))\n",
    "#print(KNN_list)"
   ]
  },
  {
   "cell_type": "code",
   "execution_count": 8,
   "metadata": {
    "collapsed": false
   },
   "outputs": [],
   "source": [
    "def coredist(o):\n",
    "    \n",
    "    if o in c1:\n",
    "        c = c1\n",
    "    else: c = c2\n",
    "    \n",
    "    # Calculation of the coredistance as per what was seen in class\n",
    "    core = ((((1/KNN(o,c,1))**2) + (((1/KNN(o,c,2))**2)))/2)**(-1/2)\n",
    "    return(core)"
   ]
  },
  {
   "cell_type": "code",
   "execution_count": 9,
   "metadata": {
    "collapsed": false
   },
   "outputs": [
    {
     "name": "stdout",
     "output_type": "stream",
     "text": [
      "The core distance for each point in the dataset is as follows: {(0, 0): 4.8989794855663558, (3, 3): 4.2426406871192848, (10, 1): 3.298484500494129, (15, 0): 4.6122366887148445, (6, 0): 4.1815923146230176, (12, 3): 3.3282011773513749}\n"
     ]
    }
   ],
   "source": [
    "coredist_list = dict()\n",
    "for p in data:\n",
    "    coredist_list[p] = coredist(p)\n",
    "print('The core distance for each point in the dataset is as follows:',coredist_list)"
   ]
  },
  {
   "cell_type": "markdown",
   "metadata": {
    "collapsed": false
   },
   "source": [
    "The mutual reachability distance between two objects oi and oj in O is defined as dmreach(oi,oj) = max{apts coredist (oi ), apts coredist (oj ), d(oi , oj )}.\n",
    "\n",
    "Calculating the Mutual Reachability Distance:"
   ]
  },
  {
   "cell_type": "code",
   "execution_count": 10,
   "metadata": {
    "collapsed": false
   },
   "outputs": [],
   "source": [
    "def dmreach(oi,oj):\n",
    "    return(max(coredist(oi), coredist(oj), np.linalg.norm(np.array(oi)-np.array(oj))))"
   ]
  },
  {
   "cell_type": "code",
   "execution_count": 11,
   "metadata": {
    "collapsed": false
   },
   "outputs": [
    {
     "name": "stdout",
     "output_type": "stream",
     "text": [
      "[[  4.89897949   6.           4.89897949  10.04987562  15.          12.36931688]\n",
      " [  6.           4.18159231   4.24264069   4.18159231   9.           6.70820393]\n",
      " [  4.89897949   4.24264069   4.24264069   7.28010989  12.36931688   9.        ]\n",
      " [ 10.04987562   4.18159231   7.28010989   3.2984845    5.09901951\n",
      "    3.32820118]\n",
      " [ 15.           9.          12.36931688   5.09901951   4.61223669\n",
      "    4.61223669]\n",
      " [ 12.36931688   6.70820393   9.           3.32820118   4.61223669\n",
      "    3.32820118]]\n",
      "  (0, 2)\t4.89897948557\n",
      "  (1, 2)\t4.24264068712\n",
      "  (3, 1)\t4.18159231462\n",
      "  (4, 5)\t4.61223668871\n",
      "  (5, 3)\t3.32820117735\n"
     ]
    }
   ],
   "source": [
    "temp_1 = []\n",
    "for i in range(len(data)):    \n",
    "    temp_2 = []\n",
    "    for j in range(len(data)):\n",
    "        temp_2.append(dmreach(data[i],data[j]))\n",
    "    temp_1.append(temp_2)    \n",
    "M = np.matrix(temp_1)\n",
    "MSTMRD = minimum_spanning_tree(M)\n",
    "print(M)\n",
    "print(MSTMRD)"
   ]
  },
  {
   "cell_type": "code",
   "execution_count": 12,
   "metadata": {
    "collapsed": false,
    "scrolled": true
   },
   "outputs": [
    {
     "name": "stdout",
     "output_type": "stream",
     "text": [
      "  (0, 2)\t4.89897948557\n",
      "  (1, 2)\t4.24264068712\n"
     ]
    }
   ],
   "source": [
    "temp_1 = []\n",
    "for i in range(0,3):    \n",
    "    temp_2 = []\n",
    "    for j in range(0,3):\n",
    "        temp_2.append(dmreach(data[i],data[j]))\n",
    "    temp_1.append(temp_2)    \n",
    "M1 = np.matrix(temp_1)\n",
    "\n",
    "MSTMRD1 = minimum_spanning_tree(M1)\n",
    "print(MSTMRD1)"
   ]
  },
  {
   "cell_type": "code",
   "execution_count": 13,
   "metadata": {
    "collapsed": false
   },
   "outputs": [
    {
     "name": "stdout",
     "output_type": "stream",
     "text": [
      "  (0, 2)\t3.32820117735\n",
      "  (1, 2)\t4.61223668871\n"
     ]
    }
   ],
   "source": [
    "temp_1 = []\n",
    "for i in range(3,6):    \n",
    "    temp_2 = []\n",
    "    for j in range(3,6):\n",
    "        temp_2.append(dmreach(data[i],data[j]))\n",
    "    temp_1.append(temp_2)    \n",
    "M2 = np.matrix(temp_1)\n",
    "\n",
    "MSTMRD2 = minimum_spanning_tree(M2)\n",
    "print(MSTMRD2)"
   ]
  },
  {
   "cell_type": "markdown",
   "metadata": {},
   "source": [
    "The Density Sparseness of a Cluster (DSC) Ci is defined as the maximum edge weight of the internal edges in MSTMRD of the cluster Ci, where MSTMRD is the minimum spanning tree constructed using aptscoredist considering the objects in Ci.\n",
    "\n",
    "The Density Separation of a Pair of Clusters (DSPC) Ci and Cj, 1 ≤ i,j ≤ l,i ̸= j, is defined as the minimum reachability distance between the internal nodes of the MSTMRDs of clusters Ci and Cj.\n",
    "\n",
    "We calculate the Density Separation of a pair of clusters as well as the validity index of each cluster:\n",
    "\n"
   ]
  },
  {
   "cell_type": "code",
   "execution_count": 14,
   "metadata": {
    "collapsed": false
   },
   "outputs": [
    {
     "name": "stdout",
     "output_type": "stream",
     "text": [
      "The validity index of the clustering is: 0.4715991014288889\n"
     ]
    }
   ],
   "source": [
    "DSC1 =  4.89897948557 # Manual input, we take the max edge value of the minimum spanning tree of cluster 1\n",
    "DSC2 = 4.61223668871 # Manual input, we take the max edge value of the minimum spanning tree of cluster 2\n",
    "\n",
    "DSPC1C2 = 9 # Minimum reachability distance between the internal nodes. Internal nodes are nodes 2 and 5. From matrix\n",
    "# M we see that the minimum reachability distance is 9.\n",
    "\n",
    "VC1 = (DSPC1C2 - DSC1)/max(DSPC1C2, DSC1)\n",
    "VC2 = (DSPC1C2 - DSC2)/max(DSPC1C2, DSC2)\n",
    "DBCV = (VC1 + VC2)/2\n",
    "print('The validity index of the clustering is:',DBCV)"
   ]
  },
  {
   "cell_type": "markdown",
   "metadata": {},
   "source": [
    "\n"
   ]
  }
 ],
 "metadata": {
  "anaconda-cloud": {},
  "kernelspec": {
   "display_name": "Python [Root]",
   "language": "python",
   "name": "Python [Root]"
  },
  "language_info": {
   "codemirror_mode": {
    "name": "ipython",
    "version": 3
   },
   "file_extension": ".py",
   "mimetype": "text/x-python",
   "name": "python",
   "nbconvert_exporter": "python",
   "pygments_lexer": "ipython3",
   "version": "3.5.2"
  }
 },
 "nbformat": 4,
 "nbformat_minor": 1
}
